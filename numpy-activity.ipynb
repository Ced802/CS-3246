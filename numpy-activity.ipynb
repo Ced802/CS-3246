{
  "cells": [
    {
      "cell_type": "markdown",
      "metadata": {},
      "source": [
        "Jhon Glenn Fabul\n",
        "\n",
        "Adolfo Cedric Sarillo"
      ]
    },
    {
      "cell_type": "markdown",
      "metadata": {
        "id": "A4GF3lV6jm5x"
      },
      "source": [
        "# **Activity 1: NumPy Exercise**\n",
        "\n",
        "**Objective:**\n",
        "\n",
        "Practice NumPy's array manipulation, indexing, and mathematical functions by solving problems related to basic data analysis and matrix operations."
      ]
    },
    {
      "cell_type": "markdown",
      "metadata": {
        "id": "Pq3P9XLbjVU4"
      },
      "source": [
        "## **Part 1**"
      ]
    },
    {
      "cell_type": "markdown",
      "metadata": {
        "id": "VkOXGCuiLGR9"
      },
      "source": [
        "#### 1. Import the numpy package under the name `np`\n"
      ]
    },
    {
      "cell_type": "code",
      "execution_count": 1,
      "metadata": {},
      "outputs": [
        {
          "name": "stdout",
          "output_type": "stream",
          "text": [
            "Requirement already satisfied: numpy in /Library/Frameworks/Python.framework/Versions/3.13/lib/python3.13/site-packages (2.2.2)\n",
            "\n",
            "\u001b[1m[\u001b[0m\u001b[34;49mnotice\u001b[0m\u001b[1;39;49m]\u001b[0m\u001b[39;49m A new release of pip is available: \u001b[0m\u001b[31;49m24.3.1\u001b[0m\u001b[39;49m -> \u001b[0m\u001b[32;49m25.0\u001b[0m\n",
            "\u001b[1m[\u001b[0m\u001b[34;49mnotice\u001b[0m\u001b[1;39;49m]\u001b[0m\u001b[39;49m To update, run: \u001b[0m\u001b[32;49mpip3 install --upgrade pip\u001b[0m\n",
            "Note: you may need to restart the kernel to use updated packages.\n"
          ]
        }
      ],
      "source": [
        "pip install numpy"
      ]
    },
    {
      "cell_type": "code",
      "execution_count": 2,
      "metadata": {
        "id": "DhbEnfx8O314"
      },
      "outputs": [],
      "source": [
        "import numpy as np\n",
        "from numpy import random"
      ]
    },
    {
      "cell_type": "markdown",
      "metadata": {
        "id": "ktNjFh4pO-5C"
      },
      "source": [
        "#### 2. Print the numpy version"
      ]
    },
    {
      "cell_type": "code",
      "execution_count": 9,
      "metadata": {
        "id": "7tZfwQhhPQoI"
      },
      "outputs": [
        {
          "name": "stdout",
          "output_type": "stream",
          "text": [
            "2.2.2\n"
          ]
        }
      ],
      "source": [
        "print(np.__version__)"
      ]
    },
    {
      "cell_type": "markdown",
      "metadata": {
        "id": "D4V99t3oQRAB"
      },
      "source": [
        "#### 3. Create a null array of size 5"
      ]
    },
    {
      "cell_type": "code",
      "execution_count": 21,
      "metadata": {
        "id": "XnL-QmA_QYa2"
      },
      "outputs": [
        {
          "name": "stdout",
          "output_type": "stream",
          "text": [
            "[0 0 0 0 0]\n"
          ]
        }
      ],
      "source": [
        "arr = np.array([0, 0, 0, 0, 0])\n",
        "print(arr)\n",
        "# double check"
      ]
    },
    {
      "cell_type": "markdown",
      "metadata": {
        "id": "x9tAEjPlQcnh"
      },
      "source": [
        "#### 4. Create a null array of size 15 but the seventh value which is 1"
      ]
    },
    {
      "cell_type": "code",
      "execution_count": 16,
      "metadata": {
        "id": "VgwfRV6OQlGk"
      },
      "outputs": [
        {
          "name": "stdout",
          "output_type": "stream",
          "text": [
            "[0. 0. 0. 0. 0. 0. 1. 0. 0. 0. 0. 0. 0. 0. 0.]\n"
          ]
        }
      ],
      "source": [
        "arr = np.empty(15)\n",
        "arr[6] = 1\n",
        "\n",
        "print(arr)"
      ]
    },
    {
      "cell_type": "markdown",
      "metadata": {
        "id": "a5_Af-hYTi-X"
      },
      "source": [
        "#### 5. Create a 4x4 matrix with values ranging from 0 to 11"
      ]
    },
    {
      "cell_type": "code",
      "execution_count": 13,
      "metadata": {
        "id": "HSlLeK5YQ5Lo"
      },
      "outputs": [
        {
          "name": "stdout",
          "output_type": "stream",
          "text": [
            "[[ 0  1  2  3]\n",
            " [ 4  5  6  7]\n",
            " [ 8  9 10 11]\n",
            " [12 13 14 15]]\n"
          ]
        }
      ],
      "source": [
        "arr = np.arange(start=0, stop=16)\n",
        "newarr = arr.reshape(4, 4)\n",
        "print(newarr)"
      ]
    },
    {
      "cell_type": "markdown",
      "metadata": {
        "id": "nLJvzwjfVXOL"
      },
      "source": [
        "#### 6. Find indices of non-zero elements from [1,2,4,0,4,0]"
      ]
    },
    {
      "cell_type": "code",
      "execution_count": 20,
      "metadata": {
        "id": "o8vyHuWfVbXu"
      },
      "outputs": [
        {
          "name": "stdout",
          "output_type": "stream",
          "text": [
            "(array([0, 1, 2, 4]),)\n"
          ]
        }
      ],
      "source": [
        "arr = np.array([1,2,4,0,4,0])\n",
        "nonzero = np.where(arr != 0)\n",
        "print(nonzero)"
      ]
    },
    {
      "cell_type": "markdown",
      "metadata": {
        "id": "z6OrgicLV6C-"
      },
      "source": [
        "#### 7. Create a 4x4x4 array with random values"
      ]
    },
    {
      "cell_type": "code",
      "execution_count": 29,
      "metadata": {
        "collapsed": true,
        "id": "MhcNEK55V1UF"
      },
      "outputs": [
        {
          "name": "stdout",
          "output_type": "stream",
          "text": [
            "[[[0.58738628 0.30014796 0.08958102 0.92963157]\n",
            "  [0.5096386  0.88585517 0.44501299 0.20717627]\n",
            "  [0.60710157 0.36153628 0.3163283  0.51185733]\n",
            "  [0.83086507 0.9467247  0.90854561 0.56695428]]\n",
            "\n",
            " [[0.43915658 0.24741374 0.65929379 0.07442731]\n",
            "  [0.48144786 0.0841849  0.76364681 0.61284115]\n",
            "  [0.15626888 0.80216651 0.49977458 0.73938108]\n",
            "  [0.362083   0.1607964  0.54538099 0.47636731]]\n",
            "\n",
            " [[0.3458597  0.81550758 0.9789525  0.18802279]\n",
            "  [0.8259505  0.12048502 0.94082648 0.9695973 ]\n",
            "  [0.28009803 0.20062704 0.77610873 0.60294392]\n",
            "  [0.63650349 0.28252156 0.45394645 0.47158386]]\n",
            "\n",
            " [[0.63158924 0.20996865 0.33450771 0.73759421]\n",
            "  [0.94415093 0.84804469 0.20475672 0.96093984]\n",
            "  [0.11974639 0.17570733 0.59326923 0.27250988]\n",
            "  [0.47893308 0.30902165 0.18949002 0.94547375]]]\n"
          ]
        }
      ],
      "source": [
        "x = random.rand(4,4,4)\n",
        "print(x)"
      ]
    },
    {
      "cell_type": "markdown",
      "metadata": {
        "id": "aLqeru_NWso3"
      },
      "source": [
        "#### 8. Create a 15x15 array with random assigned values and find the min and max values"
      ]
    },
    {
      "cell_type": "code",
      "execution_count": 189,
      "metadata": {
        "collapsed": true,
        "id": "eSpxGZ2GWqDo"
      },
      "outputs": [
        {
          "name": "stdout",
          "output_type": "stream",
          "text": [
            "[[740 907  20 654 209 829 920 322 177 579 378 200 916  51  55]\n",
            " [ 95 260 147  72 943 247 819 246 217 583 583 876 119 742 259]\n",
            " [789 541 770 417 993 499 710 591 779 791 893  80  26 822 219]\n",
            " [193 615 825 262 486 188 870 295 375 146 676 479  20 791 549]\n",
            " [ 64 713 130 359 607 286 231 552 970 636 113 388   9 839 579]\n",
            " [ 45 542 494 793 515 776 805 754 533 906 327 337  36 481 575]\n",
            " [949  89 474 120 790 246 314 496 787 652 976 151 169  55 639]\n",
            " [690 134 465  58 603 718 372 490 346 614 840 569 246 361  87]\n",
            " [230 213 438 362 400 794 387 612 198 178 802 773 218 460 764]\n",
            " [395 777 143 453  53 499 596 854 736 788 885 247 587 424 868]\n",
            " [769  70 170 884 974 778 546 249 679 572 106 891 203 949 343]\n",
            " [871 913 776 746 403 523 398 545 665 393 461 851 705 750 643]\n",
            " [356 596 349 680 537 199 481 836  62 799 468 294 928 756 513]\n",
            " [296 795 656 201 194 752 369 575 439 204 163  85  76 188 348]\n",
            " [586 853 193 730 392 354 497 606 529 153 663 836  26 809 730]]\n",
            "\n",
            "Loweset: 9\n",
            "Highest: 993\n"
          ]
        }
      ],
      "source": [
        "arr = random.randint(1000, size=(15,15))\n",
        "print(arr)\n",
        "\n",
        "newarr = np.array(np.nditer(arr))\n",
        "sortedarr = np.sort(newarr)\n",
        "# print(sortedarr)\n",
        "lowest = sortedarr[0]\n",
        "highest = sortedarr[224]\n",
        "print('')\n",
        "print(f'Loweset: {lowest}')\n",
        "print(f'Highest: {highest}')"
      ]
    },
    {
      "cell_type": "markdown",
      "metadata": {
        "id": "jIAQPvclbEVr"
      },
      "source": [
        "#### 9. Create a random array of size 25 and find the mean value"
      ]
    },
    {
      "cell_type": "code",
      "execution_count": 66,
      "metadata": {
        "id": "q91Y8GMebPeY"
      },
      "outputs": [
        {
          "name": "stdout",
          "output_type": "stream",
          "text": [
            "[86 15 41 82 40 36 14 34  6 50 85 16 84 99 13 27 19 28 47 35 70 67 45  0\n",
            " 93]\n",
            "45.28\n"
          ]
        }
      ],
      "source": [
        "arr = random.randint(100, size=(25))\n",
        "print(arr)\n",
        "print(arr.mean())"
      ]
    },
    {
      "cell_type": "markdown",
      "metadata": {
        "id": "1z3JFRgAkmNP"
      },
      "source": [
        "#### 10.  Show your codes\n",
        "\n",
        "Given:\n",
        "\n",
        "array 1 = ([2, 4, 9])\\\n",
        "array 2 = ([1, 14, 6])\n",
        "\n",
        "  *Note: Recreate the arrays*"
      ]
    },
    {
      "cell_type": "code",
      "execution_count": 68,
      "metadata": {
        "id": "jiC8LUdknLPN"
      },
      "outputs": [],
      "source": [
        "arr1 = np.array([2,4,9])\n",
        "arr2 = np.array([1,14,6])"
      ]
    },
    {
      "cell_type": "markdown",
      "metadata": {
        "id": "QFPFjpSSmecQ"
      },
      "source": [
        "10.1 What is the result of *a + b*?"
      ]
    },
    {
      "cell_type": "code",
      "execution_count": 69,
      "metadata": {
        "id": "Yqcpj3ccm5La"
      },
      "outputs": [
        {
          "name": "stdout",
          "output_type": "stream",
          "text": [
            "[ 3 18 15]\n"
          ]
        }
      ],
      "source": [
        "print(arr1+arr2)"
      ]
    },
    {
      "cell_type": "markdown",
      "metadata": {
        "id": "t0__U1Bum7k6"
      },
      "source": [
        "10.2 What is the result of *a - b*?"
      ]
    },
    {
      "cell_type": "code",
      "execution_count": 70,
      "metadata": {
        "id": "SmuAcAubnCNO"
      },
      "outputs": [
        {
          "name": "stdout",
          "output_type": "stream",
          "text": [
            "[  1 -10   3]\n"
          ]
        }
      ],
      "source": [
        "print(arr1-arr2)"
      ]
    },
    {
      "cell_type": "markdown",
      "metadata": {
        "id": "5dbiR_Urm5fJ"
      },
      "source": [
        "10.3 What is the result of *a × b*?"
      ]
    },
    {
      "cell_type": "code",
      "execution_count": 71,
      "metadata": {
        "id": "Zpnb_vGqksSF"
      },
      "outputs": [
        {
          "name": "stdout",
          "output_type": "stream",
          "text": [
            "[ 2 56 54]\n"
          ]
        }
      ],
      "source": [
        "print(arr1*arr2)"
      ]
    },
    {
      "cell_type": "markdown",
      "metadata": {
        "id": "jHTozQuZp2WM"
      },
      "source": [
        "10.4 What is the result of *a ÷ b*?"
      ]
    },
    {
      "cell_type": "code",
      "execution_count": 79,
      "metadata": {
        "id": "9Jx0GzTIqArP"
      },
      "outputs": [
        {
          "name": "stdout",
          "output_type": "stream",
          "text": [
            "[2.         0.28571429 1.5       ]\n"
          ]
        }
      ],
      "source": [
        "print(arr1/arr2)"
      ]
    },
    {
      "cell_type": "markdown",
      "metadata": {
        "id": "I3FhrIORjZsA"
      },
      "source": [
        "## **Part 2**"
      ]
    },
    {
      "cell_type": "markdown",
      "metadata": {
        "id": "JDa9MTb2wXPi"
      },
      "source": [
        "##### NumPy Array Indexing"
      ]
    },
    {
      "cell_type": "markdown",
      "metadata": {
        "id": "M4rwQgDqrLoo"
      },
      "source": [
        "\n",
        "Given the following matrix:\n",
        "\n",
        "        [[10, 20, 30],\n",
        "        [40, 50, 60],\n",
        "        [70, 80, 90]]\n",
        "\n",
        " 1. Recreate the matrix"
      ]
    },
    {
      "cell_type": "code",
      "execution_count": 80,
      "metadata": {
        "id": "Ra4n8YBQr2RZ"
      },
      "outputs": [
        {
          "name": "stdout",
          "output_type": "stream",
          "text": [
            "[[10 20 30]\n",
            " [40 50 60]\n",
            " [70 80 90]]\n"
          ]
        }
      ],
      "source": [
        "arr = np.array([[10, 20, 30], [40, 50, 60], [70, 80, 90]])\n",
        "print(arr)"
      ]
    },
    {
      "cell_type": "markdown",
      "metadata": {
        "id": "br-ZYkK3uo24"
      },
      "source": [
        "1. Write code to extract the element 50."
      ]
    },
    {
      "cell_type": "code",
      "execution_count": 84,
      "metadata": {
        "id": "kI7jzTiYrTep"
      },
      "outputs": [
        {
          "name": "stdout",
          "output_type": "stream",
          "text": [
            "50\n"
          ]
        }
      ],
      "source": [
        "print(arr[1, 1])"
      ]
    },
    {
      "cell_type": "markdown",
      "metadata": {
        "id": "H1OsD655sEX6"
      },
      "source": [
        "2. **Extract a Row**\\\n",
        "\\\n",
        "Using the same array arr, extract the second row as a separate NumPy array."
      ]
    },
    {
      "cell_type": "code",
      "execution_count": 86,
      "metadata": {
        "id": "jf-K5No5sRob"
      },
      "outputs": [
        {
          "name": "stdout",
          "output_type": "stream",
          "text": [
            "[[40 50 60]]\n"
          ]
        }
      ],
      "source": [
        "newarr = np.array(arr[1:2])\n",
        "print(newarr)"
      ]
    },
    {
      "cell_type": "markdown",
      "metadata": {
        "id": "qk1-NvWjsVC3"
      },
      "source": [
        "3.  **Extract a Column**\\\n",
        "\\\n",
        "Using arr, extract the third column as a separate NumPy array."
      ]
    },
    {
      "cell_type": "code",
      "execution_count": 89,
      "metadata": {
        "id": "d1s1c5q9sgID"
      },
      "outputs": [
        {
          "name": "stdout",
          "output_type": "stream",
          "text": [
            "[30 60 90]\n"
          ]
        }
      ],
      "source": [
        "newarr = np.array(arr[::, 2])\n",
        "print(newarr)"
      ]
    },
    {
      "cell_type": "markdown",
      "metadata": {
        "id": "DIe9pf8nskUZ"
      },
      "source": [
        "4. **Extract a Submatrix**\\\n",
        "\\\n",
        "Extract the following 2×2 submatrix from arr:\\\n",
        "\n",
        "  [[50 60]\\\n",
        " [80 90]]"
      ]
    },
    {
      "cell_type": "code",
      "execution_count": null,
      "metadata": {
        "id": "37dC5sA3ssZV"
      },
      "outputs": [],
      "source": []
    },
    {
      "cell_type": "markdown",
      "metadata": {
        "id": "ABs-32sKwOcg"
      },
      "source": [
        "##### NumPy Array Slicing"
      ]
    },
    {
      "cell_type": "markdown",
      "metadata": {
        "id": "T7kcCxr9uGAO"
      },
      "source": [
        "Given the following matrix:\n",
        "\n",
        "                [ 1,  2,  3,  4],\n",
        "                [ 5,  6,  7,  8],\n",
        "                [ 9, 10, 11, 12]]\n",
        "\n",
        "1. Recreate the matrix"
      ]
    },
    {
      "cell_type": "code",
      "execution_count": 90,
      "metadata": {
        "id": "CvzBw2FpwasA"
      },
      "outputs": [
        {
          "name": "stdout",
          "output_type": "stream",
          "text": [
            "[[ 1  2  3  4]\n",
            " [ 5  6  7  8]\n",
            " [ 9 10 11 12]]\n"
          ]
        }
      ],
      "source": [
        "arr = np.array([[1, 2, 3, 4], [5, 6, 7, 8], [9, 10, 11, 12]])\n",
        "print(arr)"
      ]
    },
    {
      "cell_type": "markdown",
      "metadata": {
        "id": "YaaIsRTVwlof"
      },
      "source": [
        "2. Write code to extract the following 2×2 subarray:\n",
        "\n",
        "        [[ 6  7]\n",
        "        [10 11]]"
      ]
    },
    {
      "cell_type": "code",
      "execution_count": 91,
      "metadata": {
        "id": "PpyFr5wYwuLN"
      },
      "outputs": [
        {
          "name": "stdout",
          "output_type": "stream",
          "text": [
            "[[ 6  7]\n",
            " [10 11]]\n"
          ]
        }
      ],
      "source": [
        "newarr = np.array(arr[1:3, 1:3])\n",
        "print(newarr)"
      ]
    },
    {
      "cell_type": "markdown",
      "metadata": {
        "id": "poinisgbw02m"
      },
      "source": [
        "3. Using the same matrix, write code to extract every other element from the first row (expected output: [1, 3])."
      ]
    },
    {
      "cell_type": "code",
      "execution_count": 92,
      "metadata": {
        "id": "9UyP9S3Ww-wf"
      },
      "outputs": [
        {
          "name": "stdout",
          "output_type": "stream",
          "text": [
            "[1 3]\n"
          ]
        }
      ],
      "source": [
        "newarr = np.array(arr[0, ::2])\n",
        "print(newarr)"
      ]
    },
    {
      "cell_type": "markdown",
      "metadata": {
        "id": "0it7IxPqxTq3"
      },
      "source": [
        "4. Write code to reverse the order of rows in the matrix"
      ]
    },
    {
      "cell_type": "code",
      "execution_count": 93,
      "metadata": {
        "id": "-tqPKhrmxWP7"
      },
      "outputs": [
        {
          "name": "stdout",
          "output_type": "stream",
          "text": [
            "[[ 9 10 11 12]\n",
            " [ 5  6  7  8]\n",
            " [ 1  2  3  4]]\n"
          ]
        }
      ],
      "source": [
        "print(arr[::-1])\n"
      ]
    },
    {
      "cell_type": "markdown",
      "metadata": {
        "id": "C8EWGps7xfYl"
      },
      "source": [
        "5. Write code to extract the last two columns of the matrix."
      ]
    },
    {
      "cell_type": "code",
      "execution_count": 98,
      "metadata": {
        "id": "F7sJw1N1xiKC"
      },
      "outputs": [
        {
          "name": "stdout",
          "output_type": "stream",
          "text": [
            "[[ 3  4]\n",
            " [ 7  8]\n",
            " [11 12]]\n"
          ]
        }
      ],
      "source": [
        "print(arr[::, 2:4])"
      ]
    },
    {
      "cell_type": "markdown",
      "metadata": {
        "id": "_8sVIp1q2MYw"
      },
      "source": [
        "##### NumPy Array Joins\n",
        "\n",
        "1. Given the following arrays:\n",
        "\n",
        "        arr1 = ([11, 7, 33])\\\n",
        "        arr2 = ([44, 5, 18])\n",
        "\n",
        "1.1 Recreate the arrays"
      ]
    },
    {
      "cell_type": "code",
      "execution_count": 103,
      "metadata": {
        "id": "-1H2IYDs2hMx"
      },
      "outputs": [],
      "source": [
        "arr1 = np.array([11, 7, 33])\n",
        "arr2 = np.array([44, 5, 18])"
      ]
    },
    {
      "cell_type": "markdown",
      "metadata": {
        "id": "jJ-OxwEZ2ysr"
      },
      "source": [
        "2. Write code to join arr1 and arr2 into a single 1D array."
      ]
    },
    {
      "cell_type": "code",
      "execution_count": 104,
      "metadata": {
        "id": "fyKL42Yv2ewQ"
      },
      "outputs": [
        {
          "name": "stdout",
          "output_type": "stream",
          "text": [
            "[11  7 33 44  5 18]\n"
          ]
        }
      ],
      "source": [
        "arr = np.concatenate((arr1, arr2))\n",
        "print(arr)"
      ]
    },
    {
      "cell_type": "markdown",
      "metadata": {
        "id": "1qiYH-0v25Z2"
      },
      "source": [
        "3. Using arr1 and arr2 from question 1, write code to stack them vertically into a 2D array."
      ]
    },
    {
      "cell_type": "code",
      "execution_count": 106,
      "metadata": {
        "id": "MgR89wkS2_Nw"
      },
      "outputs": [
        {
          "name": "stdout",
          "output_type": "stream",
          "text": [
            "[[11  7 33]\n",
            " [44  5 18]]\n"
          ]
        }
      ],
      "source": [
        "arr = np.vstack((arr1, arr2))\n",
        "print(arr)"
      ]
    },
    {
      "cell_type": "markdown",
      "metadata": {
        "id": "mLanHC623JpJ"
      },
      "source": [
        "4. Given the 2D arrays:\n",
        "\n",
        "        arr1 = ([[1, 2],\n",
        "               [3, 4]])\n",
        "\n",
        "        arr2 = ([[5, 6],\n",
        "               [7, 8]])\n",
        "\n",
        "4.1 Recreate the arrays"
      ]
    },
    {
      "cell_type": "code",
      "execution_count": 107,
      "metadata": {
        "id": "FDGnOATJ3JE4"
      },
      "outputs": [],
      "source": [
        "arr1 = np.array([[1, 2], [3, 4]])\n",
        "arr2 = np.array([[5, 6], [7, 8]])"
      ]
    },
    {
      "cell_type": "markdown",
      "metadata": {
        "id": "RyJFIfpo3wiA"
      },
      "source": [
        "5. Write code to join them horizontally (column-wise)."
      ]
    },
    {
      "cell_type": "code",
      "execution_count": 109,
      "metadata": {
        "id": "0eHEY4N63zgT"
      },
      "outputs": [
        {
          "name": "stdout",
          "output_type": "stream",
          "text": [
            "[[1 2 5 6]\n",
            " [3 4 7 8]]\n"
          ]
        }
      ],
      "source": [
        "arr = np.hstack((arr1, arr2))\n",
        "print(arr)"
      ]
    },
    {
      "cell_type": "markdown",
      "metadata": {
        "id": "encqt9P74ZSv"
      },
      "source": [
        "6. Using arr1 and arr2 from question 4, write code to join them vertically (row-wise).\n"
      ]
    },
    {
      "cell_type": "code",
      "execution_count": 110,
      "metadata": {
        "id": "o-UjS1Kn4rS7"
      },
      "outputs": [
        {
          "name": "stdout",
          "output_type": "stream",
          "text": [
            "[[1 2]\n",
            " [3 4]\n",
            " [5 6]\n",
            " [7 8]]\n"
          ]
        }
      ],
      "source": [
        "arr = np.vstack((arr1, arr2))\n",
        "print(arr)"
      ]
    },
    {
      "cell_type": "markdown",
      "metadata": {
        "id": "2l2umcfvjlXq"
      },
      "source": [
        "## **Part 3**"
      ]
    },
    {
      "cell_type": "markdown",
      "metadata": {
        "id": "-rs5StZQlvYg"
      },
      "source": [
        "### Task 1: Array Creation"
      ]
    },
    {
      "cell_type": "markdown",
      "metadata": {
        "id": "PKyTiCLulztg"
      },
      "source": [
        "Create the following arrays:\n",
        "\n",
        "- A 1D array of integers from 10 to 28, with a step of 2.\n",
        "- A 2D array with shape (4, 4) containing random integers between 1 and 50.\n",
        "- A 3D array of shape (2, 3, 4) filled with ones.\n",
        "\n"
      ]
    },
    {
      "cell_type": "code",
      "execution_count": 194,
      "metadata": {
        "collapsed": true,
        "id": "GRWUhpV46cR4"
      },
      "outputs": [
        {
          "name": "stdout",
          "output_type": "stream",
          "text": [
            "[10 12 14 16 18 20 22 24 26 28]\n",
            "\n",
            "[[35 10 49 16]\n",
            " [24 43 36  3]\n",
            " [ 6 24  6 18]\n",
            " [29 39 13 22]]\n",
            "\n",
            "[[[1. 1. 1. 1.]\n",
            "  [1. 1. 1. 1.]\n",
            "  [1. 1. 1. 1.]]\n",
            "\n",
            " [[1. 1. 1. 1.]\n",
            "  [1. 1. 1. 1.]\n",
            "  [1. 1. 1. 1.]]]\n"
          ]
        }
      ],
      "source": [
        "onedarr = np.arange(start=10, stop=29, step=2)\n",
        "print(onedarr)\n",
        "\n",
        "print('')\n",
        "twodarr = random.randint(1, 50, size=(4,4))\n",
        "print(twodarr)\n",
        "\n",
        "print('')\n",
        "threedarr = np.ones((2, 3, 4))\n",
        "print(threedarr)"
      ]
    },
    {
      "cell_type": "markdown",
      "metadata": {
        "id": "yZPELZSx7ggA"
      },
      "source": [
        "### Task 2: Array Transformations\n",
        "Perform the following operations:\n",
        "- Reshape the 1D array to a 2D array with 2 rows.\n",
        "- Extract the last two rows of the 2D array (From Task 1)\n",
        "- Replace all even numbers in the 2D array with -1. (From Task 1)"
      ]
    },
    {
      "cell_type": "code",
      "execution_count": 195,
      "metadata": {
        "id": "5EJrW4nw7sIE"
      },
      "outputs": [
        {
          "name": "stdout",
          "output_type": "stream",
          "text": [
            "[[10 12 14 16 18]\n",
            " [20 22 24 26 28]]\n",
            "\n",
            "[[ 6 24  6 18]\n",
            " [29 39 13 22]]\n",
            "\n",
            "[[35 -1 49 -1]\n",
            " [-1 43 -1  3]\n",
            " [-1 -1 -1 -1]\n",
            " [29 39 13 -1]]\n"
          ]
        }
      ],
      "source": [
        "newarr = onedarr.reshape(2, -1)\n",
        "print(newarr)\n",
        "\n",
        "print()\n",
        "anothernewarr = twodarr[2:4, ::]\n",
        "print(anothernewarr)\n",
        "\n",
        "print()\n",
        "\n",
        "anothertwodarr = twodarr.copy()\n",
        "anothertwodarr[anothertwodarr%2==0]= -1\n",
        "print(anothertwodarr)"
      ]
    },
    {
      "cell_type": "markdown",
      "metadata": {
        "id": "ZkDoNNBjn7nP"
      },
      "source": [
        "### Task 3: Statistical Operations"
      ]
    },
    {
      "cell_type": "markdown",
      "metadata": {
        "id": "87sRNKp0n7nP"
      },
      "source": [
        "Using the 2D array from **Task 1**, compute the following:\n",
        "\n",
        "- The mean, median, and standard deviation of the array. (From Task 1)\n",
        "- The sum of all elements along each row. (From Task 1)\n",
        "- The maximum value and its index in the entire array. (From Task 1)\n"
      ]
    },
    {
      "cell_type": "code",
      "execution_count": 198,
      "metadata": {
        "id": "TEoMfRV68VlZ"
      },
      "outputs": [
        {
          "name": "stdout",
          "output_type": "stream",
          "text": [
            "[[35 10 49 16]\n",
            " [24 43 36  3]\n",
            " [ 6 24  6 18]\n",
            " [29 39 13 22]]\n",
            "Mean:  23.3125\n",
            "Median:  23.0\n",
            "Standard Deviation:  13.700906676202127\n",
            "\n",
            "[110 106  54 103]\n",
            "\n",
            "Max value: 49 \n",
            "Index of Max Value: 2\n"
          ]
        }
      ],
      "source": [
        "print(twodarr)\n",
        "print('Mean: ', np.mean(twodarr))\n",
        "print('Median: ', np.median(twodarr))\n",
        "print('Standard Deviation: ', np.std(twodarr))\n",
        "print()\n",
        "\n",
        "row_sums = np.sum(twodarr, axis=1)\n",
        "print(row_sums)\n",
        "print()\n",
        "max_value = np.max(twodarr)\n",
        "max_index = np.argmax(twodarr)\n",
        "print(f'Max value: {max_value} \\nIndex of Max Value: {max_index}')"
      ]
    },
    {
      "cell_type": "markdown",
      "metadata": {
        "id": "T_X0kP3I9eWi"
      },
      "source": [
        "###  Task 4: Advanced Analysis on Large Arrays"
      ]
    },
    {
      "cell_type": "markdown",
      "metadata": {
        "id": "B6uTdro89kE7"
      },
      "source": [
        "- Create a (10, 10) array containing random floating-point numbers between 0 and 1.\n",
        "- Find the minimum value along each column.\n",
        "- Find the indices of the top 5 largest values in the entire array."
      ]
    },
    {
      "cell_type": "code",
      "execution_count": 212,
      "metadata": {
        "id": "UwJw1MIn9ovK"
      },
      "outputs": [
        {
          "name": "stdout",
          "output_type": "stream",
          "text": [
            "[[0.8490462  0.67285075 0.03253747 0.77009288 0.22585037 0.40924813\n",
            "  0.63359094 0.33690665 0.0236416  0.05861177]\n",
            " [0.01728196 0.85144829 0.26669892 0.36809084 0.73001231 0.28258151\n",
            "  0.56936558 0.67173885 0.23170129 0.23727426]\n",
            " [0.03303521 0.01550035 0.41184944 0.14824835 0.21073481 0.09229407\n",
            "  0.37483133 0.43384314 0.81385519 0.83240636]\n",
            " [0.47433486 0.53797399 0.80597448 0.43943933 0.15356186 0.79989587\n",
            "  0.01188477 0.49284357 0.2322318  0.52675012]\n",
            " [0.47353477 0.26556605 0.4502151  0.89013544 0.99858293 0.38248971\n",
            "  0.75685573 0.10103531 0.14596095 0.35817419]\n",
            " [0.89736648 0.85333801 0.74387481 0.02652679 0.8703923  0.75322416\n",
            "  0.6421675  0.62311401 0.00472531 0.2961372 ]\n",
            " [0.22241678 0.08394942 0.41560523 0.72867468 0.19854732 0.26375033\n",
            "  0.36830413 0.26768201 0.21469192 0.01696106]\n",
            " [0.27708294 0.5503777  0.12565653 0.34435887 0.83191273 0.55819138\n",
            "  0.01260895 0.98433666 0.03480126 0.22352377]\n",
            " [0.6667878  0.99768033 0.46745896 0.21135578 0.38006523 0.91468628\n",
            "  0.85994572 0.28506747 0.06781467 0.11397467]\n",
            " [0.67753731 0.50948176 0.098332   0.9604495  0.92782072 0.35830047\n",
            "  0.87969876 0.52586963 0.19967034 0.04611451]]\n",
            "\n",
            "[0.01728196 0.01550035 0.03253747 0.02652679 0.15356186 0.09229407\n",
            " 0.01188477 0.10103531 0.00472531 0.01696106]\n",
            "[[8 2 9 4 7 5 6 1 3 0]\n",
            " [0 8 9 2 5 3 6 7 4 1]\n",
            " [1 0 5 3 4 6 2 7 8 9]\n",
            " [6 4 8 3 0 7 9 1 5 2]\n",
            " [7 8 1 9 5 2 0 6 3 4]\n",
            " [8 3 9 7 6 2 5 1 4 0]\n",
            " [9 1 4 8 0 5 7 6 2 3]\n",
            " [6 8 2 9 0 3 1 5 4 7]\n",
            " [8 9 3 7 4 2 0 6 5 1]\n",
            " [9 2 8 5 1 7 0 6 4 3]]\n"
          ]
        }
      ],
      "source": [
        "arr = random.rand(10,10)\n",
        "print(arr)\n",
        "print()\n",
        "\n",
        "minval = np.min(arr, axis=0)\n",
        "print(minval)\n",
        "\n",
        "\n"
      ]
    }
  ],
  "metadata": {
    "colab": {
      "collapsed_sections": [
        "JDa9MTb2wXPi",
        "ABs-32sKwOcg"
      ],
      "provenance": []
    },
    "kernelspec": {
      "display_name": "Python 3",
      "name": "python3"
    },
    "language_info": {
      "codemirror_mode": {
        "name": "ipython",
        "version": 3
      },
      "file_extension": ".py",
      "mimetype": "text/x-python",
      "name": "python",
      "nbconvert_exporter": "python",
      "pygments_lexer": "ipython3",
      "version": "3.13.1"
    }
  },
  "nbformat": 4,
  "nbformat_minor": 0
}
